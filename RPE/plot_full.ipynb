{
 "cells": [
  {
   "cell_type": "code",
   "execution_count": 2,
   "metadata": {},
   "outputs": [
    {
     "name": "stdout",
     "output_type": "stream",
     "text": [
      "L, S, H, D 100 3 3 2\n"
     ]
    }
   ],
   "source": [
    "# load the saved parameters and do visualization for W, a and C_alpha.\n",
    "import numpy as np\n",
    "import matplotlib.pyplot as plt\n",
    "\n",
    "\n",
    "colors = plt.get_cmap('Set2').colors\n",
    "\n",
    "\n",
    "\n",
    "path = f'/data3/wangshaobo/ICL/RPE/results_paper/NGram/Full_parent2_n10000_L100_S3_H3_lr1.0_optsgd_w+10.0_w-0.01_D2_alpha0.1_n-epochs5000.npz'\n",
    "data = np.load(path)\n",
    "\n",
    "# extract info from path, about L, S, H\n",
    "path = path.split('/')[-1]\n",
    "path = path.split('_')\n",
    "\n",
    "L = int(path[3][1:])\n",
    "S = int(path[4][1:])\n",
    "H = int(path[5][1:])\n",
    "D = path[10][1:]\n",
    "print('L, S, H, D', L, S, H, D)\n",
    "\n"
   ]
  },
  {
   "cell_type": "code",
   "execution_count": 3,
   "metadata": {},
   "outputs": [
    {
     "name": "stdout",
     "output_type": "stream",
     "text": [
      "['W_before', 'C_list', 'a_list', 'W_after', 'train_loss_list', 'val_loss_list', 'alphas']\n"
     ]
    }
   ],
   "source": [
    "# check the dict of data saved with npz\n",
    "print(data.files)\n",
    "alphas = data['alphas']\n",
    "alphas = [alpha[1:] for alpha in alphas]"
   ]
  },
  {
   "cell_type": "code",
   "execution_count": 10,
   "metadata": {},
   "outputs": [
    {
     "name": "stdout",
     "output_type": "stream",
     "text": [
      "(5001, 7)\n"
     ]
    },
    {
     "data": {
      "image/png": "[encoded data removed]",
      "text/plain": [
       "<Figure size 288x216 with 1 Axes>"
      ]
     },
     "metadata": {
      "needs_background": "light"
     },
     "output_type": "display_data"
    }
   ],
   "source": [
    "# plot C_list curve, C_list is a list of multiple C_alpha, draw the curve of each alpha.\n",
    "# each alpha is corrensding to a binary coding of H+1 positions, change alpha to binary, then to a list of 0 and 1.\n",
    "C_list = data['C_list']\n",
    "# plot the ratio of each C_alpha **2 over the some of all C_alpha**2\n",
    "C_list_squre = C_list**2\n",
    "C_list_squre = C_list_squre / np.sum(C_list_squre, axis = 1)[:,np.newaxis]\n",
    "print(C_list_squre.shape)\n",
    "keep = 500\n",
    "plt.figure(figsize=(4,3))\n",
    "for i in range(len(alphas)):\n",
    "    plt.plot(C_list_squre[:keep,i], label = alphas[i], linewidth=2)\n",
    "    plt.legend()\n",
    "# plt.xlabel('epoch')\n",
    "# plt.xscale('log')\n",
    "# plt.ylabel(r'$c_\\mathcal{S}$')\n",
    "plt.tight_layout()\n",
    "plt.savefig(f'figures/full{D}_C_alpha.svg')\n"
   ]
  },
  {
   "cell_type": "code",
   "execution_count": 5,
   "metadata": {},
   "outputs": [
    {
     "data": {
      "image/png": "[encoded data removed]",
      "text/plain": [
       "<Figure size 288x216 with 4 Axes>"
      ]
     },
     "metadata": {
      "needs_background": "light"
     },
     "output_type": "display_data"
    }
   ],
   "source": [
    "# draw W_before and W_after heatmap\n",
    "\n",
    "\n",
    "W_before = data['W_before'][:10,:10]\n",
    "W_after = data['W_after'][:10,:10]\n",
    "# Get the min and max values for normalization\n",
    "vmin = min(W_before.min(), W_after.min())\n",
    "vmax = max(W_before.max(), W_after.max())\n",
    "\n",
    "# Create the figure and subplots\n",
    "plt.figure(figsize=(4, 3))\n",
    "\n",
    "# Plot W_before\n",
    "plt.subplot(1, 2, 1)\n",
    "plt.imshow(W_before, aspect='equal', vmin=vmin, vmax=vmax)\n",
    "plt.xticks([0,1,2])\n",
    "plt.colorbar()\n",
    "\n",
    "# Plot W_after\n",
    "plt.subplot(1, 2, 2)\n",
    "plt.imshow(W_after, aspect='equal', vmin=vmin, vmax=vmax)\n",
    "plt.xticks([0,1,2])\n",
    "plt.colorbar()\n",
    "plt.tight_layout()\n",
    "# make two subplot near\n",
    "plt.subplots_adjust(wspace=0.5)\n",
    "plt.savefig(f'figures/full{D}_W_before_after.svg')\n"
   ]
  },
  {
   "cell_type": "code",
   "execution_count": 6,
   "metadata": {},
   "outputs": [
    {
     "data": {
      "image/png": "[encoded data removed]",
      "text/plain": [
       "<Figure size 288x216 with 1 Axes>"
      ]
     },
     "metadata": {
      "needs_background": "light"
     },
     "output_type": "display_data"
    }
   ],
   "source": [
    "# plot a_list curve\n",
    "a_list = data['a_list']\n",
    "plt.figure(figsize=(4,3))\n",
    "plt.plot(a_list,label=r'$a$')\n",
    "plt.legend()\n",
    "# plt.xlabel('epoch')\n",
    "plt.tight_layout()\n",
    "plt.savefig(f'figures/full{D}_a.svg')\n"
   ]
  },
  {
   "cell_type": "code",
   "execution_count": null,
   "metadata": {},
   "outputs": [],
   "source": []
  },
  {
   "cell_type": "code",
   "execution_count": null,
   "metadata": {},
   "outputs": [],
   "source": []
  },
  {
   "cell_type": "code",
   "execution_count": null,
   "metadata": {},
   "outputs": [],
   "source": []
  }
 ],
 "metadata": {
  "kernelspec": {
   "display_name": "base",
   "language": "python",
   "name": "python3"
  },
  "language_info": {
   "codemirror_mode": {
    "name": "ipython",
    "version": 3
   },
   "file_extension": ".py",
   "mimetype": "text/x-python",
   "name": "python",
   "nbconvert_exporter": "python",
   "pygments_lexer": "ipython3",
   "version": "3.8.8"
  }
 },
 "nbformat": 4,
 "nbformat_minor": 2
}
