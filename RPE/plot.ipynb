{
 "cells": [
  {
   "cell_type": "code",
   "execution_count": 22,
   "metadata": {},
   "outputs": [
    {
     "name": "stdout",
     "output_type": "stream",
     "text": [
      "L, S, H, D 100 3 3 2\n"
     ]
    }
   ],
   "source": [
    "# load the saved parameters and do visualization for W, a and C_alpha.\n",
    "import numpy as np\n",
    "import matplotlib.pyplot as plt\n",
    "\n",
    "\n",
    "colors = plt.get_cmap('Set2').colors\n",
    "\n",
    "\n",
    "train_method = 'CWa'\n",
    "\n",
    "path = f'/data3/wangshaobo/ICL/RPE/results_paper/NGram/CWa_parent2_n10000_L100_S3_H3_1.0_optsgd_w+3.0_w-0.1_D2_c_alpha_init0.01_a_init0.01_alpha0.1_n-epochs[50000].npz'\n",
    "data = np.load(path)\n",
    "\n",
    "# extract info from path, about L, S, H\n",
    "path = path.split('/')[-1]\n",
    "path = path.split('_')\n",
    "if train_method == 'C_W_a':\n",
    "    L = int(path[5][1:])\n",
    "    S = int(path[6][1:])\n",
    "    H = int(path[7][1:])\n",
    "    D = path[14][1:]\n",
    "elif train_method == 'CW_a':\n",
    "    L = int(path[4][1:])\n",
    "    S = int(path[5][1:])\n",
    "    H = int(path[6][1:])\n",
    "    D = path[13][1:]\n",
    "elif train_method == 'CWa':\n",
    "    L = int(path[3][1:])\n",
    "    S = int(path[4][1:])\n",
    "    H = int(path[5][1:])\n",
    "    D = path[10][1:]\n",
    "print('L, S, H, D', L, S, H, D)\n",
    "\n"
   ]
  },
  {
   "cell_type": "code",
   "execution_count": 23,
   "metadata": {},
   "outputs": [
    {
     "name": "stdout",
     "output_type": "stream",
     "text": [
      "['W_before', 'train_loss_list_1', 'val_loss_list_1', 'W_after', 'C_list', 'a_list', 'alphas']\n"
     ]
    }
   ],
   "source": [
    "# check the dict of data saved with npz\n",
    "print(data.files)\n",
    "alphas = data['alphas']\n",
    "alphas = [alpha[1:] for alpha in alphas]"
   ]
  },
  {
   "cell_type": "code",
   "execution_count": 24,
   "metadata": {},
   "outputs": [
    {
     "name": "stdout",
     "output_type": "stream",
     "text": [
      "(50001, 7)\n"
     ]
    },
    {
     "data": {
      "image/png": "[encoded data removed]",
      "text/plain": [
       "<Figure size 288x216 with 1 Axes>"
      ]
     },
     "metadata": {
      "needs_background": "light"
     },
     "output_type": "display_data"
    }
   ],
   "source": [
    "# plot C_list curve, C_list is a list of multiple C_alpha, draw the curve of each alpha.\n",
    "# each alpha is corrensding to a binary coding of H+1 positions, change alpha to binary, then to a list of 0 and 1.\n",
    "C_list = data['C_list']\n",
    "# plot the ratio of each C_alpha **2 over the some of all C_alpha**2\n",
    "C_list_squre = C_list**2\n",
    "C_list_squre = C_list_squre / np.sum(C_list_squre, axis = 1)[:,np.newaxis]\n",
    "print(C_list_squre.shape)\n",
    "keep = 50\n",
    "plt.figure(figsize=(4,3))\n",
    "for i in range(len(alphas)):\n",
    "    plt.plot(C_list_squre[:keep,i], label = alphas[i], linewidth=2)\n",
    "    plt.legend()\n",
    "# plt.xlabel('epoch')\n",
    "# plt.ylabel(r'$c_\\mathcal{S}$')\n",
    "plt.tight_layout()\n",
    "plt.savefig(f'figures/{train_method}_{D}_C_alpha.svg')\n"
   ]
  },
  {
   "cell_type": "code",
   "execution_count": 25,
   "metadata": {},
   "outputs": [
    {
     "data": {
      "image/png": "[encoded data removed]",
      "text/plain": [
       "<Figure size 288x216 with 1 Axes>"
      ]
     },
     "metadata": {
      "needs_background": "light"
     },
     "output_type": "display_data"
    }
   ],
   "source": [
    "C_alpha_value = C_list[-1]\n",
    "# draw the C_alpha_value bar plot\n",
    "plt.figure(figsize=(4,3))\n",
    "plt.bar(range(len(C_alpha_value)), C_alpha_value)\n",
    "# plt.xlabel(r'$\\alpha$')\n",
    "# plt.ylabel(r'$c_\\mathcal{S}$')\n",
    "plt.xticks(range(len(C_alpha_value)), alphas)\n",
    "plt.tight_layout()\n",
    "plt.savefig(f'figures/{train_method}_{D}_C_alpha_bar.svg')\n"
   ]
  },
  {
   "cell_type": "code",
   "execution_count": 26,
   "metadata": {},
   "outputs": [
    {
     "data": {
      "image/png": "[encoded data removed]",
      "text/plain": [
       "<Figure size 288x216 with 4 Axes>"
      ]
     },
     "metadata": {
      "needs_background": "light"
     },
     "output_type": "display_data"
    }
   ],
   "source": [
    "# draw W_before and W_after heatmap\n",
    "W_before = data['W_before'][0][:10,:10]\n",
    "W_after = data['W_after'][0][:10,:10]\n",
    "# Get the min and max values for normalization\n",
    "vmin = min(W_before.min(), W_after.min())\n",
    "vmax = max(W_before.max(), W_after.max())\n",
    "default_color = 'lightgray'  # Define a color for the other entries\n",
    "\n",
    "# Create the figure and subplots\n",
    "plt.figure(figsize=(4, 3))\n",
    "\n",
    "# Plot W_before\n",
    "plt.subplot(1, 2, 1)\n",
    "plt.imshow(W_before, aspect='equal', vmin=vmin, vmax=vmax)\n",
    "for i in range(H, W_before.shape[0]):\n",
    "    for j in range(0, W_before.shape[1]):\n",
    "        plt.gca().add_patch(plt.Rectangle((j-0.5, i-0.5), 1, 1, color=default_color))\n",
    "plt.xticks([0,1,2])\n",
    "plt.colorbar()\n",
    "\n",
    "# Plot W_after\n",
    "plt.subplot(1, 2, 2)\n",
    "plt.imshow(W_after, aspect='equal', vmin=vmin, vmax=vmax)\n",
    "for i in range(H, W_after.shape[0]):\n",
    "    for j in range(0, W_after.shape[1]):\n",
    "        plt.gca().add_patch(plt.Rectangle((j-0.5, i-0.5), 1, 1, color=default_color))\n",
    "plt.xticks([0,1,2])\n",
    "plt.colorbar()\n",
    "plt.tight_layout()\n",
    "# make two subplot near\n",
    "plt.subplots_adjust(wspace=0.5)\n",
    "plt.savefig(f'figures/{train_method}_{D}_W_before_after.svg')\n"
   ]
  },
  {
   "cell_type": "code",
   "execution_count": 27,
   "metadata": {},
   "outputs": [
    {
     "data": {
      "image/png": "[encoded data removed]",
      "text/plain": [
       "<Figure size 288x216 with 1 Axes>"
      ]
     },
     "metadata": {
      "needs_background": "light"
     },
     "output_type": "display_data"
    }
   ],
   "source": [
    "# plot a_list curve\n",
    "a_list = data['a_list']\n",
    "plt.figure(figsize=(4,3))\n",
    "plt.plot(a_list,label=r'$a$')\n",
    "plt.legend()\n",
    "# plt.xlabel('epoch')\n",
    "plt.tight_layout()\n",
    "plt.savefig(f'figures/{train_method}_{D}_a.svg')\n"
   ]
  },
  {
   "cell_type": "code",
   "execution_count": 28,
   "metadata": {},
   "outputs": [
    {
     "data": {
      "image/png": "[encoded data removed]",
      "text/plain": [
       "<Figure size 288x216 with 2 Axes>"
      ]
     },
     "metadata": {
      "needs_background": "light"
     },
     "output_type": "display_data"
    }
   ],
   "source": [
    "# draw W_before and W_after heatmap\n",
    "W_after = data['W_after'][0][:10,:10]\n",
    "# Get the min and max values for normalization\n",
    "vmin = 0\n",
    "vmax = 8\n",
    "# Create the figure and subplots\n",
    "plt.figure(figsize=(4, 3))\n",
    "\n",
    "plt.imshow(W_after, aspect='equal', vmin=vmin, vmax=vmax)\n",
    "for i in range(H, W_after.shape[0]):\n",
    "    for j in range(0, W_after.shape[1]):\n",
    "        plt.gca().add_patch(plt.Rectangle((j-0.5, i-0.5), 1, 1, color=default_color))\n",
    "plt.colorbar()\n",
    "plt.tight_layout()\n",
    "plt.xticks([0,1,2])\n",
    "# make two subplot near\n",
    "plt.subplots_adjust(wspace=0.5)\n",
    "plt.savefig(f'figures/{train_method}_{D}_W_after.svg')\n"
   ]
  },
  {
   "cell_type": "code",
   "execution_count": 29,
   "metadata": {},
   "outputs": [],
   "source": [
    "import torch\n",
    "def create_matrix_W_h(W, H, L, h):\n",
    "    \"\"\"\n",
    "    Create and return the softmax-normalized matrix W_h based on the input numpy matrix W_np.\n",
    "    \n",
    "    Args:\n",
    "    W_np (numpy.ndarray): Input numpy array of shape [S, T], where each column represents values for the diagonals of W_h.\n",
    "    T (int): The size of the desired output matrix W_h, which will be (T+1) x (T+1).\n",
    "    \n",
    "    Returns:\n",
    "    numpy.ndarray: Output matrix W_h after applying softmax, of shape [T+1, T+1].\n",
    "    \"\"\"\n",
    "    # Convert numpy matrix to torch.Tensor\n",
    "    W = torch.tensor(W, dtype=torch.float32)\n",
    "    \n",
    "    W_h = torch.full((L+1, L+1), float('-inf'), dtype=torch.float32, device=W.device)\n",
    "    # Fill the diagonals\n",
    "    for j in range(H):\n",
    "        torch.diagonal(W_h, -j-1-h).fill_(W[j+h])\n",
    "    W_h_np = W_h.detach().cpu().numpy()\n",
    "    return W_h_np\n",
    "\n",
    "\n"
   ]
  },
  {
   "cell_type": "code",
   "execution_count": 30,
   "metadata": {},
   "outputs": [
    {
     "data": {
      "image/png": "[encoded data removed]",
      "text/plain": [
       "<Figure size 288x216 with 2 Axes>"
      ]
     },
     "metadata": {
      "needs_background": "light"
     },
     "output_type": "display_data"
    },
    {
     "data": {
      "image/png": "[encoded data removed]",
      "text/plain": [
       "<Figure size 288x216 with 2 Axes>"
      ]
     },
     "metadata": {
      "needs_background": "light"
     },
     "output_type": "display_data"
    },
    {
     "data": {
      "image/png": "[encoded data removed]",
      "text/plain": [
       "<Figure size 288x216 with 2 Axes>"
      ]
     },
     "metadata": {
      "needs_background": "light"
     },
     "output_type": "display_data"
    }
   ],
   "source": [
    "# draw W_h, make the -inf value to default value\n",
    "default_color = 'lightgray'  # Define a color for the other entries\n",
    "\n",
    "\n",
    "# plot W_h\n",
    "# head 1\n",
    "for h in range(H):\n",
    "    W_h = data['W_after'][0][:, h]\n",
    "    W_h = create_matrix_W_h(W_h, H, L, h)[:10,:10]\n",
    "    plt.figure(figsize=(4, 3))\n",
    "    plt.imshow(W_h, aspect='equal')\n",
    "\n",
    "    # add gray color  patches rect for -inf value\n",
    "    for i in range(W_h.shape[0]):\n",
    "        for j in range(W_h.shape[1]):\n",
    "            if W_h[i, j] == float('-inf'):\n",
    "                plt.gca().add_patch(plt.Rectangle((j-0.5, i-0.5), 1, 1, color=default_color))\n",
    "\n",
    "    plt.colorbar()\n",
    "    plt.savefig(f'figures/{train_method}_{D}_W_{h}.svg')\n"
   ]
  },
  {
   "cell_type": "code",
   "execution_count": 31,
   "metadata": {},
   "outputs": [
    {
     "data": {
      "image/png": "[encoded data removed]",
      "text/plain": [
       "<Figure size 288x216 with 1 Axes>"
      ]
     },
     "metadata": {
      "needs_background": "light"
     },
     "output_type": "display_data"
    }
   ],
   "source": [
    "# plot the train_loss_list and val_loss_list\n",
    "train_loss_list = data['train_loss_list_1']\n",
    "val_loss_list = data['train_loss_list_1']\n",
    "plt.figure(figsize=(4,3))\n",
    "plt.plot(train_loss_list,label='Training Loss')\n",
    "# plt.plot(val_loss_list,label='val_loss')\n",
    "# add phase change line\n",
    "plt.xscale('log')\n",
    "# plt.yscale('log')\n",
    "plt.legend()\n",
    "plt.tight_layout()\n",
    "plt.savefig(f'figures/{train_method}_{D}_loss.svg')"
   ]
  },
  {
   "cell_type": "code",
   "execution_count": null,
   "metadata": {},
   "outputs": [],
   "source": []
  },
  {
   "cell_type": "code",
   "execution_count": null,
   "metadata": {},
   "outputs": [],
   "source": []
  },
  {
   "cell_type": "code",
   "execution_count": null,
   "metadata": {},
   "outputs": [],
   "source": []
  },
  {
   "cell_type": "code",
   "execution_count": null,
   "metadata": {},
   "outputs": [],
   "source": []
  }
 ],
 "metadata": {
  "kernelspec": {
   "display_name": "base",
   "language": "python",
   "name": "python3"
  },
  "language_info": {
   "codemirror_mode": {
    "name": "ipython",
    "version": 3
   },
   "file_extension": ".py",
   "mimetype": "text/x-python",
   "name": "python",
   "nbconvert_exporter": "python",
   "pygments_lexer": "ipython3",
   "version": "3.8.8"
  }
 },
 "nbformat": 4,
 "nbformat_minor": 2
}
