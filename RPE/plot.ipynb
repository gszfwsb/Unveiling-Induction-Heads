{
 "cells": [
  {
   "cell_type": "code",
   "execution_count": null,
   "metadata": {},
   "outputs": [],
   "source": [
    "# load the saved parameters and do visualization for W, a and C_alpha.\n",
    "import numpy as np\n",
    "import matplotlib.pyplot as plt\n",
    "import pickle\n",
    "\n",
    "path = '/data3/wangshaobo/ICL/RPE/results_paper/NGram/C_W_a_parent3_n10000_L100_S3_H5_1.0_1.0_1.0_optsgd_w+2.0_w-0.01_D3_c_alpha_init0.01_a_init0.01_alpha0.1_n-epochs[10, 10, 10].npz'\n",
    "data = np.load(path)\n",
    "print(data.keys())"
   ]
  },
  {
   "cell_type": "code",
   "execution_count": null,
   "metadata": {},
   "outputs": [],
   "source": []
  }
 ],
 "metadata": {
  "language_info": {
   "name": "python"
  }
 },
 "nbformat": 4,
 "nbformat_minor": 2
}
