{
 "cells": [
  {
   "cell_type": "code",
   "execution_count": 91,
   "metadata": {},
   "outputs": [
    {
     "data": {
      "image/png": "[encoded data removed]",
      "text/plain": [
       "<Figure size 432x288 with 1 Axes>"
      ]
     },
     "metadata": {
      "needs_background": "light"
     },
     "output_type": "display_data"
    }
   ],
   "source": [
    "import matplotlib.pyplot as plt\n",
    "import matplotlib.patches as patches\n",
    "\n",
    "# Create a figure and a set of subplots\n",
    "fig, ax = plt.subplots()\n",
    "\n",
    "# Define the colors to be used\n",
    "default_color = 'lightgray'  # Define a color for the other entries\n",
    "\n",
    "colors = plt.get_cmap('Set2').colors\n",
    "M = 4\n",
    "# Add rectangles with the specific pattern\n",
    "for i in range(10):\n",
    "    for j in range(10):\n",
    "        if i > j and i-j<=M:\n",
    "            color = colors[(i-j-1) % len(colors)]\n",
    "            rect = patches.Rectangle((j, 9-i), 1, 1, linewidth=1, edgecolor='black', facecolor=color)\n",
    "            ax.add_patch(rect)\n",
    "        else:\n",
    "            rect = patches.Rectangle((j, 9-i), 1, 1, linewidth=1, edgecolor='black', facecolor=default_color)\n",
    "            ax.add_patch(rect)\n",
    "\n",
    "\n",
    "# Set the limits and aspect ratio\n",
    "ax.set_xlim(0, 10)\n",
    "ax.set_ylim(0, 10)\n",
    "ax.set_aspect('equal')\n",
    "\n",
    "# Display the plot\n",
    "plt.savefig('figures/W_P.svg')\n"
   ]
  },
  {
   "cell_type": "code",
   "execution_count": 95,
   "metadata": {},
   "outputs": [
    {
     "data": {
      "image/png": "[encoded data removed]",
      "text/plain": [
       "<Figure size 432x288 with 1 Axes>"
      ]
     },
     "metadata": {
      "needs_background": "light"
     },
     "output_type": "display_data"
    }
   ],
   "source": [
    "fig, ax = plt.subplots()\n",
    "\n",
    "# Add rectangles with the specific pattern\n",
    "for j in range(10):\n",
    "    if j < M:\n",
    "        color = colors[j % len(colors)]\n",
    "        rect = patches.Rectangle((0,j), 1, 1, linewidth=1, edgecolor='black', facecolor=color)\n",
    "    else:\n",
    "        rect = patches.Rectangle((0,j), 1, 1, linewidth=1, edgecolor='black', facecolor=default_color)\n",
    "    ax.add_patch(rect)\n",
    "\n",
    "# Set the limits and aspect ratio\n",
    "ax.set_ylim(10,0)\n",
    "ax.set_xlim(0, 1)\n",
    "ax.set_aspect('equal')\n",
    "\n",
    "\n",
    "# Display the plot\n",
    "plt.savefig('figures/w.svg')\n",
    "\n"
   ]
  },
  {
   "cell_type": "code",
   "execution_count": 93,
   "metadata": {},
   "outputs": [
    {
     "data": {
      "image/png": "[encoded data removed]",
      "text/plain": [
       "<Figure size 432x288 with 1 Axes>"
      ]
     },
     "metadata": {
      "needs_background": "light"
     },
     "output_type": "display_data"
    }
   ],
   "source": [
    "\n",
    "# Create a figure and a set of subplots\n",
    "fig, ax = plt.subplots()\n",
    "# Add rectangles with the specific pattern\n",
    "for i in range(M):\n",
    "    for j in range(10):\n",
    "        if i == j:\n",
    "            color = colors[(j) % len(colors)]\n",
    "            rect = patches.Rectangle((i,j), 1, 1, linewidth=1, edgecolor='black', facecolor=color)\n",
    "        else:\n",
    "            rect = patches.Rectangle((i,j), 1, 1, linewidth=1, edgecolor='black', facecolor=default_color)\n",
    "        ax.add_patch(rect)\n",
    "\n",
    "\n",
    "# Set the limits and aspect ratio\n",
    "ax.set_ylim(10, 0)  # Invert y-axis to set origin at the top-left corner\n",
    "ax.set_xlim(0, M)\n",
    "ax.set_aspect('equal')\n",
    "\n",
    "# Display the plot\n",
    "plt.savefig('figures/full_w.svg')\n",
    "\n"
   ]
  },
  {
   "cell_type": "code",
   "execution_count": null,
   "metadata": {},
   "outputs": [],
   "source": []
  }
 ],
 "metadata": {
  "kernelspec": {
   "display_name": "base",
   "language": "python",
   "name": "python3"
  },
  "language_info": {
   "codemirror_mode": {
    "name": "ipython",
    "version": 3
   },
   "file_extension": ".py",
   "mimetype": "text/x-python",
   "name": "python",
   "nbconvert_exporter": "python",
   "pygments_lexer": "ipython3",
   "version": "3.8.8"
  }
 },
 "nbformat": 4,
 "nbformat_minor": 2
}
