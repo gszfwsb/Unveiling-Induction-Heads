{
 "cells": [
  {
   "cell_type": "code",
   "execution_count": 4,
   "metadata": {},
   "outputs": [],
   "source": [
    "import os \n",
    "import re\n",
    "current_dir = os.getcwd()\n",
    "parent_dir =  os.path.dirname(current_dir)\n",
    "script_dir = os.path.join(parent_dir, 'RPE/train_simplified.py')\n",
    "\n",
    "args_command = '--vocab-size 3 --seq-length 100 --n-heads 1 --n-gram 2 --w-plus 3 --c-alpha 0.01 --device cuda --n-epochs 50000   --lr 1 --train-cmd CWa --low-degree 1 --dataset Markov' # Markov dataset\n",
    "# args_command = '--vocab-size 3 --seq-length 100 --n-heads 3 --n-gram 3 --w-plus 3 --c-alpha 0.01 --device cuda --n-epochs 50000   --lr 1 --train-cmd CWa --low-degree 2' # N-gram dataset\n",
    "\n",
    "prefix = '''#!/bin/bash\n",
    "#SBATCH --job-name=<YOUR_JOB_NAME> # Job name\n",
    "#SBATCH --partition=gpu \n",
    "#SBATCH --gres=gpu:1 \n",
    "#SBATCH --ntasks=1 \n",
    "#SBATCH --cpus-per-task=8\n",
    "#SBATCH --time=24:00:00 \n",
    "#SBATCH --output=<YOUR_OUTPUT_FILE>\n",
    "#SBATCH --error=<YOUR_ERROR_FILE>\n",
    "#SBATCH --requeue \n",
    "\n",
    "echo '-------------------------------'\n",
    "cd ${SLURM_SUBMIT_DIR}\n",
    "echo ${SLURM_SUBMIT_DIR}\n",
    "echo Running on host $(hostname)\n",
    "echo Time is $(date)\n",
    "echo SLURM_NODES are $(echo ${SLURM_NODELIST})\n",
    "echo '-------------------------------'\n",
    "echo -e '\\\\n\\\\n'\n",
    "\n",
    "export PROCS=${SLURM_CPUS_ON_NODE}\n",
    "\n",
    "# Set the working directory\n",
    "cd <YOUR_WORKING_DIR>\n",
    "\n",
    "module load miniconda\n",
    "conda activate scgpt1\n",
    "'''\n",
    "\n",
    "prefix = prefix.replace('<YOUR_OUTPUT_FILE>', os.path.join(current_dir, 'slurm_output/%j.out'))\n",
    "prefix = prefix.replace('<YOUR_ERROR_FILE>', os.path.join(current_dir, 'slurm_output/%j.err'))\n",
    "prefix = prefix.replace('<YOUR_JOB_NAME>', '2-gram_experiment')\n",
    "prefix = prefix.replace('<YOUR_WORKING_DIR>', os.path.dirname(script_dir))\n",
    "# Extract n-gram value from args_command\n",
    "n_gram_match = re.search(r'--n-gram (\\d+)', args_command)\n",
    "n_gram_value = n_gram_match.group(1) if n_gram_match else 'unknown'\n",
    "\n",
    "script_name = f'{n_gram_value}-gram.sh'\n",
    "with open(script_name, 'w') as file:\n",
    "    file.write(prefix)\n",
    "    # add new line \n",
    "    file.write('\\n')\n",
    "    file.write(f'python3 {script_dir} {args_command}')\n",
    "    file.write('\\n')"
   ]
  }
 ],
 "metadata": {
  "kernelspec": {
   "display_name": "Python 3",
   "language": "python",
   "name": "python3"
  },
  "language_info": {
   "codemirror_mode": {
    "name": "ipython",
    "version": 3
   },
   "file_extension": ".py",
   "mimetype": "text/x-python",
   "name": "python",
   "nbconvert_exporter": "python",
   "pygments_lexer": "ipython3",
   "version": "3.9.19"
  }
 },
 "nbformat": 4,
 "nbformat_minor": 2
}
